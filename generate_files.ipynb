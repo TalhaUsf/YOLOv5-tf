{
 "cells": [
  {
   "attachments": {},
   "cell_type": "markdown",
   "metadata": {},
   "source": [
    "# Define dirs."
   ]
  },
  {
   "cell_type": "code",
   "execution_count": 1,
   "metadata": {},
   "outputs": [],
   "source": [
    "from pathlib import Path"
   ]
  },
  {
   "cell_type": "code",
   "execution_count": 14,
   "metadata": {},
   "outputs": [],
   "source": [
    "train_dataset = Path().cwd().parents[0] / 'dataset_train'\n",
    "test_dataset = Path().cwd().parents[0] / 'dataset_validation'"
   ]
  },
  {
   "cell_type": "code",
   "execution_count": 15,
   "metadata": {},
   "outputs": [],
   "source": [
    "assert Path(train_dataset).exists(), \"train dataset doesn't exist\"\n",
    "assert Path(test_dataset).exists(), \"test dataset doesn't exist\""
   ]
  },
  {
   "attachments": {},
   "cell_type": "markdown",
   "metadata": {},
   "source": [
    "# Parse files"
   ]
  },
  {
   "cell_type": "code",
   "execution_count": 16,
   "metadata": {},
   "outputs": [],
   "source": [
    "train_image_names = list((train_dataset / 'data').iterdir())\n",
    "test_image_names = list((test_dataset / 'data').iterdir())"
   ]
  },
  {
   "cell_type": "code",
   "execution_count": 17,
   "metadata": {},
   "outputs": [
    {
     "data": {
      "text/html": [
       "<pre style=\"white-space:pre;overflow-x:auto;line-height:normal;font-family:Menlo,'DejaVu Sans Mono',consolas,'Courier New',monospace\"><span style=\"color: #7fbfbf; text-decoration-color: #7fbfbf\">[17:45:34] </span>🔴       train images --&gt; <span style=\"color: #008080; text-decoration-color: #008080; font-weight: bold\">2501</span>                                                           <a href=\"file:///tmp/ipykernel_1846628/1272024014.py\" target=\"_blank\"><span style=\"color: #7f7f7f; text-decoration-color: #7f7f7f\">1272024014.py</span></a><span style=\"color: #7f7f7f; text-decoration-color: #7f7f7f\">:</span><a href=\"file:///tmp/ipykernel_1846628/1272024014.py#2\" target=\"_blank\"><span style=\"color: #7f7f7f; text-decoration-color: #7f7f7f\">2</span></a>\n",
       "</pre>\n"
      ],
      "text/plain": [
       "\u001b[2;36m[17:45:34]\u001b[0m\u001b[2;36m \u001b[0m🔴       train images --> \u001b[1;36m2501\u001b[0m                                                           \u001b]8;id=436751;file:///tmp/ipykernel_1846628/1272024014.py\u001b\\\u001b[2m1272024014.py\u001b[0m\u001b]8;;\u001b\\\u001b[2m:\u001b[0m\u001b]8;id=432811;file:///tmp/ipykernel_1846628/1272024014.py#2\u001b\\\u001b[2m2\u001b[0m\u001b]8;;\u001b\\\n"
      ]
     },
     "metadata": {},
     "output_type": "display_data"
    },
    {
     "data": {
      "text/html": [
       "<pre style=\"white-space:pre;overflow-x:auto;line-height:normal;font-family:Menlo,'DejaVu Sans Mono',consolas,'Courier New',monospace\"><span style=\"color: #7fbfbf; text-decoration-color: #7fbfbf\">[17:45:34] </span>🔴       test images --&gt; <span style=\"color: #008080; text-decoration-color: #008080; font-weight: bold\">2510</span>                                                            <a href=\"file:///tmp/ipykernel_1846628/1272024014.py\" target=\"_blank\"><span style=\"color: #7f7f7f; text-decoration-color: #7f7f7f\">1272024014.py</span></a><span style=\"color: #7f7f7f; text-decoration-color: #7f7f7f\">:</span><a href=\"file:///tmp/ipykernel_1846628/1272024014.py#3\" target=\"_blank\"><span style=\"color: #7f7f7f; text-decoration-color: #7f7f7f\">3</span></a>\n",
       "</pre>\n"
      ],
      "text/plain": [
       "\u001b[2;36m[17:45:34]\u001b[0m\u001b[2;36m \u001b[0m🔴       test images --> \u001b[1;36m2510\u001b[0m                                                            \u001b]8;id=298141;file:///tmp/ipykernel_1846628/1272024014.py\u001b\\\u001b[2m1272024014.py\u001b[0m\u001b]8;;\u001b\\\u001b[2m:\u001b[0m\u001b]8;id=516798;file:///tmp/ipykernel_1846628/1272024014.py#3\u001b\\\u001b[2m3\u001b[0m\u001b]8;;\u001b\\\n"
      ]
     },
     "metadata": {},
     "output_type": "display_data"
    }
   ],
   "source": [
    "from rich.console import Console\n",
    "Console().log(f\"🔴\\ttrain images --> {train_image_names.__len__()}\")\n",
    "Console().log(f\"🔴\\ttest images --> {test_image_names.__len__()}\")"
   ]
  },
  {
   "attachments": {},
   "cell_type": "markdown",
   "metadata": {},
   "source": [
    "# Write to files"
   ]
  },
  {
   "cell_type": "code",
   "execution_count": 21,
   "metadata": {},
   "outputs": [],
   "source": [
    "train_images_to_write = [k.stem for k in train_image_names]\n",
    "test_images_to_write = [k.stem for k in test_image_names]"
   ]
  },
  {
   "cell_type": "code",
   "execution_count": 24,
   "metadata": {},
   "outputs": [
    {
     "data": {
      "text/plain": [
       "17506"
      ]
     },
     "execution_count": 24,
     "metadata": {},
     "output_type": "execute_result"
    }
   ],
   "source": [
    "(Path(\"..\") / \"dataset_train\" / \"train.txt\").write_text(\"\\n\".join(train_images_to_write))"
   ]
  },
  {
   "cell_type": "code",
   "execution_count": 25,
   "metadata": {},
   "outputs": [
    {
     "data": {
      "text/plain": [
       "17569"
      ]
     },
     "execution_count": 25,
     "metadata": {},
     "output_type": "execute_result"
    }
   ],
   "source": [
    "(Path(\"..\") / \"dataset_validation\" / \"test.txt\").write_text(\"\\n\".join(test_images_to_write))"
   ]
  },
  {
   "cell_type": "code",
   "execution_count": null,
   "metadata": {},
   "outputs": [],
   "source": []
  }
 ],
 "metadata": {
  "kernelspec": {
   "display_name": "ai_engine",
   "language": "python",
   "name": "python3"
  },
  "language_info": {
   "codemirror_mode": {
    "name": "ipython",
    "version": 3
   },
   "file_extension": ".py",
   "mimetype": "text/x-python",
   "name": "python",
   "nbconvert_exporter": "python",
   "pygments_lexer": "ipython3",
   "version": "3.9.12 (main, Jun  1 2022, 11:38:51) \n[GCC 7.5.0]"
  },
  "orig_nbformat": 4,
  "vscode": {
   "interpreter": {
    "hash": "322a2d3f1c5610b877ca6b4c31dca989e6014c6f2d337cbeb38627c42d8354b1"
   }
  }
 },
 "nbformat": 4,
 "nbformat_minor": 2
}
